{
 "cells": [
  {
   "cell_type": "markdown",
   "metadata": {
    "cell_id": "00000-8646918d-c506-4d18-b057-3b5bb2e22266",
    "deepnote_cell_type": "markdown",
    "tags": []
   },
   "source": [
    "# Cloud Carbon Coefficients"
   ]
  },
  {
   "cell_type": "markdown",
   "metadata": {
    "cell_id": "00001-f09ac78b-3251-466f-bab5-4c70958818e1",
    "deepnote_cell_type": "markdown",
    "tags": []
   },
   "source": [
    "#### Imports"
   ]
  },
  {
   "cell_type": "code",
   "execution_count": 52,
   "metadata": {
    "cell_id": "00000-81948d95-fe93-4df9-b019-6c77253d192c",
    "deepnote_cell_type": "code",
    "deepnote_to_be_reexecuted": false,
    "execution_millis": 3213,
    "execution_start": 1628581590795,
    "source_hash": "6847ec8f",
    "tags": []
   },
   "outputs": [
    {
     "name": "stdout",
     "output_type": "stream",
     "text": [
      "Defaulting to user installation because normal site-packages is not writeable\n",
      "Requirement already satisfied: pandas==1.3.3 in /home/vscode/.local/lib/python3.9/site-packages (from -r requirements.txt (line 1)) (1.3.3)\n",
      "Requirement already satisfied: numpy>=1.17.3 in /home/vscode/.local/lib/python3.9/site-packages (from pandas==1.3.3->-r requirements.txt (line 1)) (1.21.2)\n",
      "Requirement already satisfied: python-dateutil>=2.7.3 in /home/vscode/.local/lib/python3.9/site-packages (from pandas==1.3.3->-r requirements.txt (line 1)) (2.8.2)\n",
      "Requirement already satisfied: pytz>=2017.3 in /home/vscode/.local/lib/python3.9/site-packages (from pandas==1.3.3->-r requirements.txt (line 1)) (2021.3)\n",
      "Requirement already satisfied: six>=1.5 in /home/vscode/.local/lib/python3.9/site-packages (from python-dateutil>=2.7.3->pandas==1.3.3->-r requirements.txt (line 1)) (1.16.0)\n",
      "Note: you may need to restart the kernel to use updated packages.\n"
     ]
    }
   ],
   "source": [
    "%pip install -r requirements.txt\n",
    "\n",
    "import csv\n",
    "import numpy as np\n",
    "import pandas as pd"
   ]
  },
  {
   "cell_type": "markdown",
   "metadata": {
    "cell_id": "00003-75c2fcce-9162-419d-9d58-6c99359ca4a0",
    "deepnote_cell_type": "markdown",
    "tags": []
   },
   "source": [
    "## Processor types\n",
    "\n",
    "Processors are grouped into types by each vendor e.g. Intel Broadwell CPUs. Cloud providers provide the CPU types for each of their instance types, but not the precise CPU details. As such, we calculate the average wattage by processor type."
   ]
  },
  {
   "cell_type": "code",
   "execution_count": 53,
   "metadata": {
    "cell_id": "00004-0681c559-1bdf-41e8-89a2-f027601bc883",
    "deepnote_cell_type": "code",
    "deepnote_to_be_reexecuted": false,
    "execution_millis": 2,
    "execution_start": 1628581594016,
    "source_hash": "1e53c5de",
    "tags": []
   },
   "outputs": [],
   "source": [
    "# Loads a CSV file then returns each row appended to an array\n",
    "def load_append_data(file_name):\n",
    "    with open(f'data/{file_name}', 'r') as csvfile:\n",
    "        reader = csv.reader(csvfile)\n",
    "\n",
    "        data = []\n",
    "        for row in reader:\n",
    "            data.append(row[0])\n",
    "        \n",
    "        return data\n",
    "\n",
    "cpus_amd_epyc_gen1 = load_append_data('amd-epyc-gen1.csv')\n",
    "cpus_amd_epyc_gen2 = load_append_data('amd-epyc-gen2.csv')\n",
    "cpus_amd_epyc_gen3 = load_append_data('amd-epyc-gen3.csv')\n",
    "cpus_intel_sandybridge = load_append_data('intel-sandybridge.csv')\n",
    "cpus_intel_ivybridge = load_append_data('intel-ivybridge.csv')\n",
    "cpus_intel_haswell = load_append_data('intel-haswell.csv')\n",
    "cpus_intel_broadwell = load_append_data('intel-broadwell.csv')\n",
    "cpus_intel_skylake = load_append_data('intel-skylake.csv')\n",
    "cpus_intel_cascadelake = load_append_data('intel-cascadelake.csv')\n",
    "cpus_intel_coffeelake = load_append_data('intel-coffeelake.csv')"
   ]
  },
  {
   "cell_type": "markdown",
   "metadata": {
    "cell_id": "00005-db40944d-20c4-40a4-9bf0-ea23dceba42d",
    "deepnote_cell_type": "markdown",
    "tags": []
   },
   "source": [
    "## Processor lists\n",
    "\n",
    "Now we know which processors are in which type, we can group all the tested servers by their CPU type to calculate: average idle watts, average watts at 100% utilization, average GB/chip."
   ]
  },
  {
   "cell_type": "code",
   "execution_count": 54,
   "metadata": {
    "cell_id": "00006-b89060db-ad18-4b2f-8a27-7474db756fa5",
    "deepnote_cell_type": "code",
    "deepnote_to_be_reexecuted": false,
    "execution_millis": 14,
    "execution_start": 1628581594027,
    "source_hash": "e397b0d6",
    "tags": []
   },
   "outputs": [],
   "source": [
    "# Load all servers from SPECpower results CSV\n",
    "servers = pd.read_csv('data/SPECpower-full-results.csv', na_values=['NC'])"
   ]
  },
  {
   "cell_type": "markdown",
   "metadata": {
    "cell_id": "00007-2e31f1f8-a36f-44f3-821c-d29884209fa9",
    "deepnote_cell_type": "markdown",
    "tags": []
   },
   "source": [
    "#### Regex match\n",
    "\n",
    "The regex to match the CPU names matches to the end of the line using `$` because some chips have version numbers after, so we can't just do a substring match e.g. `Intel E3-1230` is a Sandy Bridge chip but `Intel E3-1230 v3` is Haswell. It is case insensitive due to the use of `v3` and `V3` inconsistently in the definitions.\n",
    "\n",
    "#### Clean data\n",
    "\n",
    "The SPECpower results often appends extra info to the `CPU Description` column which is unecessary. For example, `Intel Xeon E5-2470 (Intel Turbo Boost Technology up to 3.10 GHz)`. This extra info needs to be stripped e.g. to `Intel Xeon E5-2470` otherwise the regex match will not work.\n",
    "\n",
    "The check below will error if the data is not clean."
   ]
  },
  {
   "cell_type": "code",
   "execution_count": 55,
   "metadata": {
    "cell_id": "00008-738bc5cd-aa52-43bb-96d6-45a0b0d6e6df",
    "deepnote_cell_type": "code",
    "deepnote_to_be_reexecuted": false,
    "execution_millis": 3,
    "execution_start": 1628581594047,
    "source_hash": "97084bc5",
    "tags": []
   },
   "outputs": [],
   "source": [
    "if len(servers[servers['CPU Description'].str.contains('Ghz')]) > 0:\n",
    "    print('Data not clean')\n",
    "    import sys\n",
    "    sys.exit(1)"
   ]
  },
  {
   "cell_type": "markdown",
   "metadata": {
    "cell_id": "00007-d171c681-61e3-4e0e-90a0-2757d69b61c2",
    "deepnote_cell_type": "markdown",
    "tags": []
   },
   "source": [
    "### AMD: EPYC Gen 1"
   ]
  },
  {
   "cell_type": "code",
   "execution_count": 56,
   "metadata": {
    "allow_embed": false,
    "cell_id": "00010-6c076149-b7e1-41c9-9f3f-d2b29f14b5db",
    "deepnote_cell_type": "code",
    "deepnote_to_be_reexecuted": false,
    "execution_millis": 7,
    "execution_start": 1628581594085,
    "source_hash": "811868a8",
    "tags": []
   },
   "outputs": [
    {
     "name": "stdout",
     "output_type": "stream",
     "text": [
      "Average: Min Watts = 0.82\n",
      "Average: Max Watts = 2.55\n",
      "Average: GB/Chip = 89.60\n"
     ]
    },
    {
     "name": "stderr",
     "output_type": "stream",
     "text": [
      "/tmp/ipykernel_14392/3176249774.py:4: UserWarning: This pattern has match groups. To actually get the groups, use str.extract.\n",
      "  servers_amd_epyc_gen1 = servers[servers['CPU Description'].str.contains('|'.join(cpus_re))]\n"
     ]
    }
   ],
   "source": [
    "# Construct regex to match the chip name exactly to the end of the line\n",
    "# (See notes above on regex and clean data)\n",
    "cpus_re = [rf'(?i)(\\b{string}$)' for string in cpus_amd_epyc_gen1]\n",
    "servers_amd_epyc_gen1 = servers[servers['CPU Description'].str.contains('|'.join(cpus_re))]\n",
    "\n",
    "amd_epyc_gen1 = {}\n",
    "amd_epyc_gen1['Idle watts'] = (servers_amd_epyc_gen1['avg. watts @ active idle'].astype(float) / servers_amd_epyc_gen1['Total Threads']).mean()\n",
    "amd_epyc_gen1['100% watts'] = (servers_amd_epyc_gen1['avg. watts @ 100%'].astype(float) / servers_amd_epyc_gen1['Total Threads']).mean()\n",
    "amd_epyc_gen1['GB/Chip'] = (servers_amd_epyc_gen1['Total Memory (GB)'] / servers_amd_epyc_gen1['Chips']).mean()\n",
    "\n",
    "print(f'Average: Min Watts = {amd_epyc_gen1[\"Idle watts\"].mean():,.2f}')\n",
    "print(f'Average: Max Watts = {amd_epyc_gen1[\"100% watts\"].mean():,.2f}')\n",
    "print(f'Average: GB/Chip = {amd_epyc_gen1[\"GB/Chip\"].mean():,.2f}')"
   ]
  },
  {
   "cell_type": "markdown",
   "metadata": {
    "cell_id": "00010-8ea0d4fc-c839-49ed-90d0-898b8bcd89b0",
    "deepnote_cell_type": "markdown",
    "tags": []
   },
   "source": [
    "### AMD: EPYC Gen 2"
   ]
  },
  {
   "cell_type": "code",
   "execution_count": 57,
   "metadata": {
    "allow_embed": false,
    "cell_id": "00011-bcd9412c-e095-418f-aa10-8f36a689fd4d",
    "deepnote_cell_type": "code",
    "deepnote_to_be_reexecuted": false,
    "execution_millis": 6,
    "execution_start": 1628581594086,
    "source_hash": "b057caef",
    "tags": []
   },
   "outputs": [
    {
     "name": "stdout",
     "output_type": "stream",
     "text": [
      "Average: Min Watts = 0.47\n",
      "Average: Max Watts = 1.69\n",
      "Average: GB/Chip = 129.78\n"
     ]
    },
    {
     "name": "stderr",
     "output_type": "stream",
     "text": [
      "/tmp/ipykernel_14392/2792922155.py:4: UserWarning: This pattern has match groups. To actually get the groups, use str.extract.\n",
      "  servers_amd_epyc_gen2 = servers[servers['CPU Description'].str.contains('|'.join(cpus_re))]\n"
     ]
    }
   ],
   "source": [
    "# Construct regex to match the chip name exactly to the end of the line\n",
    "# (See notes above on regex and clean data)\n",
    "cpus_re = [rf'(?i)(\\b{string}$)' for string in cpus_amd_epyc_gen2]\n",
    "servers_amd_epyc_gen2 = servers[servers['CPU Description'].str.contains('|'.join(cpus_re))]\n",
    "\n",
    "amd_epyc_gen2 = {}\n",
    "amd_epyc_gen2['Idle watts'] = (servers_amd_epyc_gen2['avg. watts @ active idle'].astype(float) / servers_amd_epyc_gen2['Total Threads']).mean()\n",
    "amd_epyc_gen2['100% watts'] = (servers_amd_epyc_gen2['avg. watts @ 100%'].astype(float) / servers_amd_epyc_gen2['Total Threads']).mean()\n",
    "amd_epyc_gen2['GB/Chip'] = (servers_amd_epyc_gen2['Total Memory (GB)'] / servers_amd_epyc_gen2['Chips']).mean()\n",
    "\n",
    "print(f'Average: Min Watts = {amd_epyc_gen2[\"Idle watts\"].mean():,.2f}')\n",
    "print(f'Average: Max Watts = {amd_epyc_gen2[\"100% watts\"].mean():,.2f}')\n",
    "print(f'Average: GB/Chip = {amd_epyc_gen2[\"GB/Chip\"].mean():,.2f}')"
   ]
  },
  {
   "cell_type": "markdown",
   "metadata": {
    "cell_id": "00007-d171c681-61e3-4e0e-90a0-2757d69b61c2",
    "deepnote_cell_type": "markdown",
    "tags": []
   },
   "source": [
    "### AMD: EPYC Gen 3"
   ]
  },
  {
   "cell_type": "code",
   "execution_count": 58,
   "metadata": {
    "allow_embed": false,
    "cell_id": "00011-bcd9412c-e095-418f-aa10-8f36a689fd4d",
    "deepnote_cell_type": "code",
    "deepnote_to_be_reexecuted": false,
    "execution_millis": 6,
    "execution_start": 1628581594086,
    "source_hash": "b057caef",
    "tags": []
   },
   "outputs": [
    {
     "name": "stdout",
     "output_type": "stream",
     "text": [
      "Average: Min Watts = 0.45\n",
      "Average: Max Watts = 2.02\n",
      "Average: GB/Chip = 128.00\n"
     ]
    },
    {
     "name": "stderr",
     "output_type": "stream",
     "text": [
      "/tmp/ipykernel_14392/647802680.py:4: UserWarning: This pattern has match groups. To actually get the groups, use str.extract.\n",
      "  servers_amd_epyc_gen3 = servers[servers['CPU Description'].str.contains('|'.join(cpus_re))]\n"
     ]
    }
   ],
   "source": [
    "# Construct regex to match the chip name exactly to the end of the line\n",
    "# (See notes above on regex and clean data)\n",
    "cpus_re = [rf'(?i)(\\b{string}$)' for string in cpus_amd_epyc_gen3]\n",
    "servers_amd_epyc_gen3 = servers[servers['CPU Description'].str.contains('|'.join(cpus_re))]\n",
    "\n",
    "amd_epyc_gen3 = {}\n",
    "amd_epyc_gen3['Idle watts'] = (servers_amd_epyc_gen3['avg. watts @ active idle'].astype(float) / servers_amd_epyc_gen3['Total Threads']).mean()\n",
    "amd_epyc_gen3['100% watts'] = (servers_amd_epyc_gen3['avg. watts @ 100%'].astype(float) / servers_amd_epyc_gen3['Total Threads']).mean()\n",
    "amd_epyc_gen3['GB/Chip'] = (servers_amd_epyc_gen3['Total Memory (GB)'] / servers_amd_epyc_gen3['Chips']).mean()\n",
    "\n",
    "print(f'Average: Min Watts = {amd_epyc_gen3[\"Idle watts\"].mean():,.2f}')\n",
    "print(f'Average: Max Watts = {amd_epyc_gen3[\"100% watts\"].mean():,.2f}')\n",
    "print(f'Average: GB/Chip = {amd_epyc_gen3[\"GB/Chip\"].mean():,.2f}')"
   ]
  },
  {
   "cell_type": "markdown",
   "metadata": {
    "cell_id": "00010-126394fd-a364-45d3-8372-ec358a115b09",
    "deepnote_cell_type": "markdown",
    "tags": []
   },
   "source": [
    "### Intel: Sandy Bridge"
   ]
  },
  {
   "cell_type": "code",
   "execution_count": 59,
   "metadata": {
    "allow_embed": false,
    "cell_id": "00012-894c75f8-a96b-41f9-962a-779f14a5851e",
    "deepnote_cell_type": "code",
    "deepnote_to_be_reexecuted": false,
    "execution_millis": 65,
    "execution_start": 1628581594089,
    "source_hash": "5cc461e",
    "tags": []
   },
   "outputs": [
    {
     "name": "stderr",
     "output_type": "stream",
     "text": [
      "/tmp/ipykernel_14392/3898130055.py:4: UserWarning: This pattern has match groups. To actually get the groups, use str.extract.\n",
      "  servers_intel_sandybridge = servers[servers['CPU Description'].str.contains('|'.join(cpus_re))]\n"
     ]
    },
    {
     "name": "stdout",
     "output_type": "stream",
     "text": [
      "Average: Min Watts = 2.17\n",
      "Average: Max Watts = 8.58\n",
      "Average: GB/Chip = 16.48\n"
     ]
    }
   ],
   "source": [
    "# Construct regex to match the chip name exactly to the end of the line\n",
    "# (See notes above on regex and clean data)\n",
    "cpus_re = [rf'(?i)(\\b{string}$)' for string in cpus_intel_sandybridge]\n",
    "servers_intel_sandybridge = servers[servers['CPU Description'].str.contains('|'.join(cpus_re))]\n",
    "\n",
    "intel_sandybridge = {}\n",
    "intel_sandybridge['Idle watts'] = (servers_intel_sandybridge['avg. watts @ active idle'].astype(float) / servers_intel_sandybridge['Total Threads']).mean()\n",
    "intel_sandybridge['100% watts'] = (servers_intel_sandybridge['avg. watts @ 100%'].astype(float) / servers_intel_sandybridge['Total Threads']).mean()\n",
    "intel_sandybridge['GB/Chip'] = (servers_intel_sandybridge['Total Memory (GB)'] / servers_intel_sandybridge['Chips']).mean()\n",
    "\n",
    "print(f'Average: Min Watts = {intel_sandybridge[\"Idle watts\"].mean():,.2f}')\n",
    "print(f'Average: Max Watts = {intel_sandybridge[\"100% watts\"].mean():,.2f}')\n",
    "print(f'Average: GB/Chip = {intel_sandybridge[\"GB/Chip\"].mean():,.2f}')"
   ]
  },
  {
   "cell_type": "markdown",
   "metadata": {
    "cell_id": "00008-634290e8-e711-476c-8bf6-9cdf4d58a406",
    "deepnote_cell_type": "markdown",
    "tags": []
   },
   "source": [
    "### Intel: Ivy Bridge"
   ]
  },
  {
   "cell_type": "code",
   "execution_count": 60,
   "metadata": {
    "cell_id": "00008-acf36f9b-0eeb-4d0d-8cc6-7b4d4d586946",
    "deepnote_cell_type": "code",
    "deepnote_to_be_reexecuted": false,
    "execution_millis": 50,
    "execution_start": 1628581594193,
    "source_hash": "1b5b47bd",
    "tags": []
   },
   "outputs": [
    {
     "name": "stderr",
     "output_type": "stream",
     "text": [
      "/tmp/ipykernel_14392/3084217986.py:4: UserWarning: This pattern has match groups. To actually get the groups, use str.extract.\n",
      "  servers_intel_ivybridge = servers[servers['CPU Description'].str.contains('|'.join(cpus_re))]\n"
     ]
    },
    {
     "name": "stdout",
     "output_type": "stream",
     "text": [
      "Average: Min Watts = 3.04\n",
      "Average: Max Watts = 8.25\n",
      "Average: GB/Chip = 14.93\n"
     ]
    }
   ],
   "source": [
    "# Construct regex to match the chip name exactly to the end of the line\n",
    "# (See notes above on regex and clean data)\n",
    "cpus_re = [rf'(?i)(\\b{string}$)' for string in cpus_intel_ivybridge]\n",
    "servers_intel_ivybridge = servers[servers['CPU Description'].str.contains('|'.join(cpus_re))]\n",
    "\n",
    "intel_ivybridge = {}\n",
    "intel_ivybridge['Idle watts'] = (servers_intel_ivybridge['avg. watts @ active idle'].astype(float) / servers_intel_ivybridge['Total Threads']).mean()\n",
    "intel_ivybridge['100% watts'] = (servers_intel_ivybridge['avg. watts @ 100%'].astype(float) / servers_intel_ivybridge['Total Threads']).mean()\n",
    "intel_ivybridge['GB/Chip'] = (servers_intel_ivybridge['Total Memory (GB)'] / servers_intel_ivybridge['Chips']).mean()\n",
    "\n",
    "print(f'Average: Min Watts = {intel_ivybridge[\"Idle watts\"].mean():,.2f}')\n",
    "print(f'Average: Max Watts = {intel_ivybridge[\"100% watts\"].mean():,.2f}')\n",
    "print(f'Average: GB/Chip = {intel_ivybridge[\"GB/Chip\"].mean():,.2f}')"
   ]
  },
  {
   "cell_type": "markdown",
   "metadata": {
    "cell_id": "00008-15a73303-9813-4526-87e9-848e452851a3",
    "deepnote_cell_type": "markdown",
    "tags": []
   },
   "source": [
    "### Intel: Haswell"
   ]
  },
  {
   "cell_type": "code",
   "execution_count": 61,
   "metadata": {
    "allow_embed": false,
    "cell_id": "00010-4ad36932-befa-47ea-b38e-db9201a015f0",
    "deepnote_cell_type": "code",
    "deepnote_to_be_reexecuted": false,
    "execution_millis": 53,
    "execution_start": 1628581594238,
    "source_hash": "b37dac0c",
    "tags": []
   },
   "outputs": [
    {
     "name": "stdout",
     "output_type": "stream",
     "text": [
      "Average: Min Watts = 1.00\n",
      "Average: Max Watts = 4.74\n",
      "Average: GB/Chip = 27.71\n"
     ]
    },
    {
     "name": "stderr",
     "output_type": "stream",
     "text": [
      "/tmp/ipykernel_14392/1165169352.py:4: UserWarning: This pattern has match groups. To actually get the groups, use str.extract.\n",
      "  servers_intel_haswell = servers[servers['CPU Description'].str.contains('|'.join(cpus_re))]\n"
     ]
    }
   ],
   "source": [
    "# Construct regex to match the chip name exactly to the end of the line\n",
    "# (See notes above on regex and clean data)\n",
    "cpus_re = [rf'(?i)(\\b{string}$)' for string in cpus_intel_haswell]\n",
    "servers_intel_haswell = servers[servers['CPU Description'].str.contains('|'.join(cpus_re))]\n",
    "\n",
    "intel_haswell = {}\n",
    "intel_haswell['Idle watts'] = (servers_intel_haswell['avg. watts @ active idle'].astype(float) / servers_intel_haswell['Total Threads']).mean()\n",
    "intel_haswell['100% watts'] = (servers_intel_haswell['avg. watts @ 100%'].astype(float) / servers_intel_haswell['Total Threads']).mean()\n",
    "intel_haswell['GB/Chip'] = (servers_intel_haswell['Total Memory (GB)'] / servers_intel_haswell['Chips']).mean()\n",
    "\n",
    "print(f'Average: Min Watts = {intel_haswell[\"Idle watts\"].mean():,.2f}')\n",
    "print(f'Average: Max Watts = {intel_haswell[\"100% watts\"].mean():,.2f}')\n",
    "print(f'Average: GB/Chip = {intel_haswell[\"GB/Chip\"].mean():,.2f}')"
   ]
  },
  {
   "cell_type": "markdown",
   "metadata": {
    "cell_id": "00008-46b9bb7e-24f0-4cdf-8bf3-b588f98b275a",
    "deepnote_cell_type": "markdown",
    "tags": []
   },
   "source": [
    "### Intel: Broadwell"
   ]
  },
  {
   "cell_type": "code",
   "execution_count": 62,
   "metadata": {
    "allow_embed": false,
    "cell_id": "00010-da2a934a-41b2-41ce-984b-0e02a8cd407b",
    "deepnote_cell_type": "code",
    "deepnote_to_be_reexecuted": false,
    "execution_millis": 56,
    "execution_start": 1628581594286,
    "source_hash": "c803a079",
    "tags": []
   },
   "outputs": [
    {
     "name": "stderr",
     "output_type": "stream",
     "text": [
      "/tmp/ipykernel_14392/2634343304.py:4: UserWarning: This pattern has match groups. To actually get the groups, use str.extract.\n",
      "  servers_intel_broadwell = servers[servers['CPU Description'].str.contains('|'.join(cpus_re))]\n"
     ]
    },
    {
     "name": "stdout",
     "output_type": "stream",
     "text": [
      "Average: Min Watts = 0.71\n",
      "Average: Max Watts = 3.69\n",
      "Average: GB/Chip = 69.65\n"
     ]
    }
   ],
   "source": [
    "# Construct regex to match the chip name exactly to the end of the line\n",
    "# (See notes above on regex and clean data)\n",
    "cpus_re = [rf'(?i)(\\b{string}$)' for string in cpus_intel_broadwell]\n",
    "servers_intel_broadwell = servers[servers['CPU Description'].str.contains('|'.join(cpus_re))]\n",
    "\n",
    "intel_broadwell = {}\n",
    "intel_broadwell['Idle watts'] = (servers_intel_broadwell['avg. watts @ active idle'].astype(float) / servers_intel_broadwell['Total Threads']).mean()\n",
    "intel_broadwell['100% watts'] = (servers_intel_broadwell['avg. watts @ 100%'].astype(float) / servers_intel_broadwell['Total Threads']).mean()\n",
    "intel_broadwell['GB/Chip'] = (servers_intel_broadwell['Total Memory (GB)'] / servers_intel_broadwell['Chips']).mean()\n",
    "\n",
    "print(f'Average: Min Watts = {intel_broadwell[\"Idle watts\"].mean():,.2f}')\n",
    "print(f'Average: Max Watts = {intel_broadwell[\"100% watts\"].mean():,.2f}')\n",
    "print(f'Average: GB/Chip = {intel_broadwell[\"GB/Chip\"].mean():,.2f}')"
   ]
  },
  {
   "cell_type": "markdown",
   "metadata": {
    "cell_id": "00008-91fe6896-5050-4356-afe8-2fd78257cd0f",
    "deepnote_cell_type": "markdown",
    "tags": []
   },
   "source": [
    "### Intel: Skylake"
   ]
  },
  {
   "cell_type": "code",
   "execution_count": 63,
   "metadata": {
    "allow_embed": false,
    "cell_id": "00010-36735c0f-a581-4af5-ba6d-05e660f9737e",
    "deepnote_cell_type": "code",
    "deepnote_to_be_reexecuted": false,
    "execution_millis": 78,
    "execution_start": 1628581594366,
    "source_hash": "6f68ce18",
    "tags": []
   },
   "outputs": [
    {
     "name": "stderr",
     "output_type": "stream",
     "text": [
      "/tmp/ipykernel_14392/3030376553.py:4: UserWarning: This pattern has match groups. To actually get the groups, use str.extract.\n",
      "  servers_intel_skylake = servers[servers['CPU Description'].str.contains('|'.join(cpus_re))]\n"
     ]
    },
    {
     "name": "stdout",
     "output_type": "stream",
     "text": [
      "Average: Min Watts = 0.65\n",
      "Average: Max Watts = 4.26\n",
      "Average: GB/Chip = 81.32\n"
     ]
    }
   ],
   "source": [
    "# Construct regex to match the chip name exactly to the end of the line\n",
    "# (See notes above on regex and clean data)\n",
    "cpus_re = [rf'(?i)(\\b{string}$)' for string in cpus_intel_skylake]\n",
    "servers_intel_skylake = servers[servers['CPU Description'].str.contains('|'.join(cpus_re))]\n",
    "\n",
    "intel_skylake = {}\n",
    "intel_skylake['Idle watts'] = (servers_intel_skylake['avg. watts @ active idle'].astype(float) / servers_intel_skylake['Total Threads']).mean()\n",
    "intel_skylake['100% watts'] = (servers_intel_skylake['avg. watts @ 100%'].astype(float) / servers_intel_skylake['Total Threads']).mean()\n",
    "intel_skylake['GB/Chip'] = (servers_intel_skylake['Total Memory (GB)'] / servers_intel_skylake['Chips']).mean()\n",
    "\n",
    "print(f'Average: Min Watts = {intel_skylake[\"Idle watts\"].mean():,.2f}')\n",
    "print(f'Average: Max Watts = {intel_skylake[\"100% watts\"].mean():,.2f}')\n",
    "print(f'Average: GB/Chip = {intel_skylake[\"GB/Chip\"].mean():,.2f}')"
   ]
  },
  {
   "cell_type": "markdown",
   "metadata": {
    "cell_id": "00008-edf81ea5-637b-4a57-ba14-1db722349558",
    "deepnote_cell_type": "markdown",
    "tags": []
   },
   "source": [
    "### Intel: Cascade Lake"
   ]
  },
  {
   "cell_type": "code",
   "execution_count": 64,
   "metadata": {
    "allow_embed": false,
    "cell_id": "00010-ba0a1bb4-0adc-4768-bd73-fbba19661e74",
    "deepnote_cell_type": "code",
    "deepnote_to_be_reexecuted": false,
    "execution_millis": 70,
    "execution_start": 1628581594438,
    "source_hash": "2e5d6e6d",
    "tags": []
   },
   "outputs": [
    {
     "name": "stderr",
     "output_type": "stream",
     "text": [
      "/tmp/ipykernel_14392/2926989061.py:4: UserWarning: This pattern has match groups. To actually get the groups, use str.extract.\n",
      "  servers_intel_cascadelake = servers[servers['CPU Description'].str.contains('|'.join(cpus_re))]\n"
     ]
    },
    {
     "name": "stdout",
     "output_type": "stream",
     "text": [
      "Average: Min Watts = 0.64\n",
      "Average: Max Watts = 3.97\n",
      "Average: GB/Chip = 98.12\n"
     ]
    }
   ],
   "source": [
    "# Construct regex to match the chip name exactly to the end of the line\n",
    "# (See notes above on regex and clean data)\n",
    "cpus_re = [rf'(?i)(\\b{string}$)' for string in cpus_intel_cascadelake]\n",
    "servers_intel_cascadelake = servers[servers['CPU Description'].str.contains('|'.join(cpus_re))]\n",
    "\n",
    "intel_cascadelake = {}\n",
    "intel_cascadelake['Idle watts'] = (servers_intel_cascadelake['avg. watts @ active idle'].astype(float) / servers_intel_cascadelake['Total Threads']).mean()\n",
    "intel_cascadelake['100% watts'] = (servers_intel_cascadelake['avg. watts @ 100%'].astype(float) / servers_intel_cascadelake['Total Threads']).mean()\n",
    "intel_cascadelake['GB/Chip'] = (servers_intel_cascadelake['Total Memory (GB)'] / servers_intel_cascadelake['Chips']).mean()\n",
    "\n",
    "print(f'Average: Min Watts = {intel_cascadelake[\"Idle watts\"].mean():,.2f}')\n",
    "print(f'Average: Max Watts = {intel_cascadelake[\"100% watts\"].mean():,.2f}')\n",
    "print(f'Average: GB/Chip = {intel_cascadelake[\"GB/Chip\"].mean():,.2f}')"
   ]
  },
  {
   "cell_type": "markdown",
   "metadata": {
    "cell_id": "00008-2ea2b48e-5000-450c-80c7-712a5946202a",
    "deepnote_cell_type": "markdown",
    "tags": []
   },
   "source": [
    "### Intel: Coffee Lake"
   ]
  },
  {
   "cell_type": "code",
   "execution_count": 65,
   "metadata": {
    "allow_embed": false,
    "cell_id": "00009-a23988b8-dce7-4510-8aec-dbc2a1bca206",
    "deepnote_cell_type": "code",
    "deepnote_to_be_reexecuted": false,
    "execution_millis": 5,
    "execution_start": 1628581594554,
    "source_hash": "fcf0bb6d",
    "tags": []
   },
   "outputs": [
    {
     "name": "stdout",
     "output_type": "stream",
     "text": [
      "Average: Min Watts = 1.14\n",
      "Average: Max Watts = 5.42\n",
      "Average: GB/Chip = 19.56\n"
     ]
    },
    {
     "name": "stderr",
     "output_type": "stream",
     "text": [
      "/tmp/ipykernel_14392/3811761309.py:4: UserWarning: This pattern has match groups. To actually get the groups, use str.extract.\n",
      "  servers_intel_coffeelake = servers[servers['CPU Description'].str.contains('|'.join(cpus_re))]\n"
     ]
    }
   ],
   "source": [
    "# Construct regex to match the chip name exactly to the end of the line\n",
    "# (See notes above on regex and clean data)\n",
    "cpus_re = [rf'(?i)(\\b{string}$)' for string in cpus_intel_coffeelake]\n",
    "servers_intel_coffeelake = servers[servers['CPU Description'].str.contains('|'.join(cpus_re))]\n",
    "\n",
    "intel_coffeelake = {}\n",
    "intel_coffeelake['Idle watts'] = (servers_intel_coffeelake['avg. watts @ active idle'].astype(float) / servers_intel_coffeelake['Total Threads']).mean()\n",
    "intel_coffeelake['100% watts'] = (servers_intel_coffeelake['avg. watts @ 100%'].astype(float) / servers_intel_coffeelake['Total Threads']).mean()\n",
    "intel_coffeelake['GB/Chip'] = (servers_intel_coffeelake['Total Memory (GB)'] / servers_intel_coffeelake['Chips']).mean()\n",
    "\n",
    "print(f'Average: Min Watts = {intel_coffeelake[\"Idle watts\"].mean():,.2f}')\n",
    "print(f'Average: Max Watts = {intel_coffeelake[\"100% watts\"].mean():,.2f}')\n",
    "print(f'Average: GB/Chip = {intel_coffeelake[\"GB/Chip\"].mean():,.2f}')"
   ]
  },
  {
   "cell_type": "markdown",
   "metadata": {
    "cell_id": "00024-c4b4e23b-4b59-4fe4-998a-40d8dbf8602a",
    "deepnote_cell_type": "markdown",
    "tags": []
   },
   "source": [
    "## Azure\n",
    "\n",
    "These values go in [`packages/azure/src/domain/AzureFootprintEstimationConstants.ts`](https://github.com/cloud-carbon-footprint/cloud-carbon-footprint/blob/trunk/packages/azure/src/domain/AzureFootprintEstimationConstants.ts)"
   ]
  },
  {
   "cell_type": "code",
   "execution_count": 66,
   "metadata": {
    "cell_id": "00025-66f6d2e0-cd6b-4ba2-a5f7-e0404da1bb55",
    "deepnote_cell_type": "code",
    "deepnote_to_be_reexecuted": false,
    "execution_millis": 28,
    "execution_start": 1628581594555,
    "source_hash": "23d98d3f",
    "tags": []
   },
   "outputs": [
    {
     "name": "stdout",
     "output_type": "stream",
     "text": [
      "Average: Min Watts = 0.74\n",
      "Average: Max Watts = 3.50\n",
      "Average: GB/Chip = 80.69\n"
     ]
    },
    {
     "data": {
      "text/html": [
       "<div>\n",
       "<style scoped>\n",
       "    .dataframe tbody tr th:only-of-type {\n",
       "        vertical-align: middle;\n",
       "    }\n",
       "\n",
       "    .dataframe tbody tr th {\n",
       "        vertical-align: top;\n",
       "    }\n",
       "\n",
       "    .dataframe thead th {\n",
       "        text-align: right;\n",
       "    }\n",
       "</style>\n",
       "<table border=\"1\" class=\"dataframe\">\n",
       "  <thead>\n",
       "    <tr style=\"text-align: right;\">\n",
       "      <th></th>\n",
       "      <th>Architecture</th>\n",
       "      <th>Min Watts</th>\n",
       "      <th>Max Watts</th>\n",
       "      <th>GB/Chip</th>\n",
       "    </tr>\n",
       "  </thead>\n",
       "  <tbody>\n",
       "    <tr>\n",
       "      <th>0</th>\n",
       "      <td>Cascade Lake</td>\n",
       "      <td>0.638949</td>\n",
       "      <td>3.967305</td>\n",
       "      <td>98.117647</td>\n",
       "    </tr>\n",
       "    <tr>\n",
       "      <th>1</th>\n",
       "      <td>Skylake</td>\n",
       "      <td>0.652273</td>\n",
       "      <td>4.255506</td>\n",
       "      <td>81.324324</td>\n",
       "    </tr>\n",
       "    <tr>\n",
       "      <th>2</th>\n",
       "      <td>Broadwell</td>\n",
       "      <td>0.712834</td>\n",
       "      <td>3.685328</td>\n",
       "      <td>69.647059</td>\n",
       "    </tr>\n",
       "    <tr>\n",
       "      <th>3</th>\n",
       "      <td>Haswell</td>\n",
       "      <td>1.000595</td>\n",
       "      <td>4.739716</td>\n",
       "      <td>27.714286</td>\n",
       "    </tr>\n",
       "    <tr>\n",
       "      <th>4</th>\n",
       "      <td>AMD EPYC 2nd Gen</td>\n",
       "      <td>0.474262</td>\n",
       "      <td>1.692962</td>\n",
       "      <td>129.777778</td>\n",
       "    </tr>\n",
       "    <tr>\n",
       "      <th>5</th>\n",
       "      <td>Coffee Lake</td>\n",
       "      <td>1.138426</td>\n",
       "      <td>5.421759</td>\n",
       "      <td>19.555556</td>\n",
       "    </tr>\n",
       "    <tr>\n",
       "      <th>6</th>\n",
       "      <td>AMD EPYC 3rd Gen</td>\n",
       "      <td>0.474262</td>\n",
       "      <td>1.692962</td>\n",
       "      <td>129.777778</td>\n",
       "    </tr>\n",
       "    <tr>\n",
       "      <th>7</th>\n",
       "      <td>AMD EPYC 1st Gen</td>\n",
       "      <td>0.822656</td>\n",
       "      <td>2.553125</td>\n",
       "      <td>89.600000</td>\n",
       "    </tr>\n",
       "  </tbody>\n",
       "</table>\n",
       "</div>"
      ],
      "text/plain": [
       "       Architecture  Min Watts  Max Watts     GB/Chip\n",
       "0      Cascade Lake   0.638949   3.967305   98.117647\n",
       "1           Skylake   0.652273   4.255506   81.324324\n",
       "2         Broadwell   0.712834   3.685328   69.647059\n",
       "3           Haswell   1.000595   4.739716   27.714286\n",
       "4  AMD EPYC 2nd Gen   0.474262   1.692962  129.777778\n",
       "5       Coffee Lake   1.138426   5.421759   19.555556\n",
       "6  AMD EPYC 3rd Gen   0.474262   1.692962  129.777778\n",
       "7  AMD EPYC 1st Gen   0.822656   2.553125   89.600000"
      ]
     },
     "execution_count": 66,
     "metadata": {},
     "output_type": "execute_result"
    }
   ],
   "source": [
    "azure_instances = pd.read_csv('data/azure-instances.csv', na_values=['NC'])\n",
    "azure_architectures = azure_instances['Microarchitecture'].unique()\n",
    "azure_coefficients = []\n",
    "\n",
    "for cpu in azure_architectures:\n",
    "    if cpu == 'AMD EPYC 1st Gen':\n",
    "        azure_coefficients.append({\n",
    "            'Architecture': cpu,\n",
    "            'Min Watts': amd_epyc_gen1['Idle watts'],\n",
    "            'Max Watts': amd_epyc_gen1['100% watts'],\n",
    "            'GB/Chip': amd_epyc_gen1['GB/Chip']\n",
    "        })\n",
    "    elif cpu == 'AMD EPYC 2nd Gen':\n",
    "        azure_coefficients.append({\n",
    "            'Architecture': cpu,\n",
    "            'Min Watts': amd_epyc_gen2['Idle watts'],\n",
    "            'Max Watts': amd_epyc_gen2['100% watts'],\n",
    "            'GB/Chip': amd_epyc_gen2['GB/Chip']\n",
    "        })\n",
    "    elif cpu == 'AMD EPYC 3rd Gen':\n",
    "        azure_coefficients.append({\n",
    "            'Architecture': cpu,\n",
    "            'Min Watts': amd_epyc_gen2['Idle watts'],\n",
    "            'Max Watts': amd_epyc_gen2['100% watts'],\n",
    "            'GB/Chip': amd_epyc_gen2['GB/Chip']\n",
    "        })\n",
    "    elif cpu == 'Sandy Bridge':\n",
    "        azure_coefficients.append({\n",
    "            'Architecture': cpu,\n",
    "            'Min Watts': intel_sandybridge['Idle watts'],\n",
    "            'Max Watts': intel_sandybridge['100% watts'],\n",
    "            'GB/Chip': intel_sandybridge['GB/Chip']\n",
    "        })\n",
    "    elif cpu == 'Ivy Bridge':\n",
    "        azure_coefficients.append({\n",
    "            'Architecture': cpu,\n",
    "            'Min Watts': intel_ivybridge['Idle watts'],\n",
    "            'Max Watts': intel_ivybridge['100% watts'],\n",
    "            'GB/Chip': intel_ivybridge['GB/Chip']\n",
    "        })\n",
    "    elif cpu == 'Haswell':\n",
    "        azure_coefficients.append({\n",
    "            'Architecture': cpu,\n",
    "            'Min Watts': intel_haswell['Idle watts'],\n",
    "            'Max Watts': intel_haswell['100% watts'],\n",
    "            'GB/Chip': intel_haswell['GB/Chip']\n",
    "        })\n",
    "    elif cpu == 'Broadwell':\n",
    "        azure_coefficients.append({\n",
    "            'Architecture': cpu,\n",
    "            'Min Watts': intel_broadwell['Idle watts'],\n",
    "            'Max Watts': intel_broadwell['100% watts'],\n",
    "            'GB/Chip': intel_broadwell['GB/Chip']\n",
    "        })\n",
    "    elif cpu == 'Skylake':\n",
    "        azure_coefficients.append({\n",
    "            'Architecture': cpu,\n",
    "            'Min Watts': intel_skylake['Idle watts'],\n",
    "            'Max Watts': intel_skylake['100% watts'],\n",
    "            'GB/Chip': intel_skylake['GB/Chip']\n",
    "        })\n",
    "    elif cpu == 'Cascade Lake':\n",
    "        azure_coefficients.append({\n",
    "            'Architecture': cpu,\n",
    "            'Min Watts': intel_cascadelake['Idle watts'],\n",
    "            'Max Watts': intel_cascadelake['100% watts'],\n",
    "            'GB/Chip': intel_cascadelake['GB/Chip']\n",
    "        })\n",
    "    elif cpu == 'Coffee Lake':\n",
    "        azure_coefficients.append({\n",
    "            'Architecture': cpu,\n",
    "            'Min Watts': intel_coffeelake['Idle watts'],\n",
    "            'Max Watts': intel_coffeelake['100% watts'],\n",
    "            'GB/Chip': intel_coffeelake['GB/Chip']\n",
    "        })    \n",
    "\n",
    "azure_coefficients = pd.DataFrame(azure_coefficients)\n",
    "print(f'Average: Min Watts = {azure_coefficients[\"Min Watts\"].mean():,.2f}')\n",
    "print(f'Average: Max Watts = {azure_coefficients[\"Max Watts\"].mean():,.2f}')\n",
    "print(f'Average: GB/Chip = {azure_coefficients[\"GB/Chip\"].mean():,.2f}')\n",
    "azure_coefficients"
   ]
  },
  {
   "cell_type": "markdown",
   "metadata": {
    "cell_id": "00024-80ab5b5f-d29d-4812-b7bb-8f3228eb1460",
    "deepnote_cell_type": "markdown",
    "tags": []
   },
   "source": [
    "## AWS\n",
    "\n",
    "These values go in [`packages/aws/src/domain/AwsFootprintEstimationConstants.ts`](https://github.com/cloud-carbon-footprint/cloud-carbon-footprint/blob/trunk/packages/aws/src/domain/AwsFootprintEstimationConstants.ts)"
   ]
  },
  {
   "cell_type": "code",
   "execution_count": 67,
   "metadata": {
    "cell_id": "00025-bdd86d54-fc00-44c8-84c3-f2922bc87de5",
    "deepnote_cell_type": "code",
    "deepnote_to_be_reexecuted": false,
    "execution_millis": 30,
    "execution_start": 1628581594579,
    "source_hash": "af442cd",
    "tags": []
   },
   "outputs": [
    {
     "name": "stdout",
     "output_type": "stream",
     "text": [
      "Average: Min Watts = 0.74\n",
      "Average: Max Watts = 3.50\n",
      "Average: GB/Chip = 80.69\n"
     ]
    },
    {
     "data": {
      "text/html": [
       "<div>\n",
       "<style scoped>\n",
       "    .dataframe tbody tr th:only-of-type {\n",
       "        vertical-align: middle;\n",
       "    }\n",
       "\n",
       "    .dataframe tbody tr th {\n",
       "        vertical-align: top;\n",
       "    }\n",
       "\n",
       "    .dataframe thead th {\n",
       "        text-align: right;\n",
       "    }\n",
       "</style>\n",
       "<table border=\"1\" class=\"dataframe\">\n",
       "  <thead>\n",
       "    <tr style=\"text-align: right;\">\n",
       "      <th></th>\n",
       "      <th>Architecture</th>\n",
       "      <th>Min Watts</th>\n",
       "      <th>Max Watts</th>\n",
       "      <th>GB/Chip</th>\n",
       "    </tr>\n",
       "  </thead>\n",
       "  <tbody>\n",
       "    <tr>\n",
       "      <th>0</th>\n",
       "      <td>Haswell</td>\n",
       "      <td>1.000595</td>\n",
       "      <td>4.739716</td>\n",
       "      <td>27.714286</td>\n",
       "    </tr>\n",
       "    <tr>\n",
       "      <th>1</th>\n",
       "      <td>Cascade Lake</td>\n",
       "      <td>0.638949</td>\n",
       "      <td>3.967305</td>\n",
       "      <td>98.117647</td>\n",
       "    </tr>\n",
       "    <tr>\n",
       "      <th>2</th>\n",
       "      <td>Skylake</td>\n",
       "      <td>0.652273</td>\n",
       "      <td>4.255506</td>\n",
       "      <td>81.324324</td>\n",
       "    </tr>\n",
       "    <tr>\n",
       "      <th>3</th>\n",
       "      <td>AMD EPYC 2nd Gen</td>\n",
       "      <td>0.474262</td>\n",
       "      <td>1.692962</td>\n",
       "      <td>129.777778</td>\n",
       "    </tr>\n",
       "    <tr>\n",
       "      <th>4</th>\n",
       "      <td>AWS Graviton2</td>\n",
       "      <td>0.474262</td>\n",
       "      <td>1.692962</td>\n",
       "      <td>129.777778</td>\n",
       "    </tr>\n",
       "    <tr>\n",
       "      <th>5</th>\n",
       "      <td>Broadwell</td>\n",
       "      <td>0.712834</td>\n",
       "      <td>3.685328</td>\n",
       "      <td>69.647059</td>\n",
       "    </tr>\n",
       "    <tr>\n",
       "      <th>6</th>\n",
       "      <td>AMD EPYC 1st Gen</td>\n",
       "      <td>0.822656</td>\n",
       "      <td>2.553125</td>\n",
       "      <td>89.600000</td>\n",
       "    </tr>\n",
       "    <tr>\n",
       "      <th>7</th>\n",
       "      <td>Coffee Lake</td>\n",
       "      <td>1.138426</td>\n",
       "      <td>5.421759</td>\n",
       "      <td>19.555556</td>\n",
       "    </tr>\n",
       "  </tbody>\n",
       "</table>\n",
       "</div>"
      ],
      "text/plain": [
       "       Architecture  Min Watts  Max Watts     GB/Chip\n",
       "0           Haswell   1.000595   4.739716   27.714286\n",
       "1      Cascade Lake   0.638949   3.967305   98.117647\n",
       "2           Skylake   0.652273   4.255506   81.324324\n",
       "3  AMD EPYC 2nd Gen   0.474262   1.692962  129.777778\n",
       "4     AWS Graviton2   0.474262   1.692962  129.777778\n",
       "5         Broadwell   0.712834   3.685328   69.647059\n",
       "6  AMD EPYC 1st Gen   0.822656   2.553125   89.600000\n",
       "7       Coffee Lake   1.138426   5.421759   19.555556"
      ]
     },
     "execution_count": 67,
     "metadata": {},
     "output_type": "execute_result"
    }
   ],
   "source": [
    "aws_instances = pd.read_csv('data/aws-instances.csv', na_values=['NC'])\n",
    "aws_architectures = aws_instances['Microarchitecture'].unique()\n",
    "aws_coefficients = []\n",
    "\n",
    "for cpu in aws_architectures:\n",
    "    if cpu == 'AMD EPYC 1st Gen':\n",
    "        aws_coefficients.append({\n",
    "            'Architecture': cpu,\n",
    "            'Min Watts': amd_epyc_gen1['Idle watts'],\n",
    "            'Max Watts': amd_epyc_gen1['100% watts'],\n",
    "            'GB/Chip': amd_epyc_gen1['GB/Chip']\n",
    "        })\n",
    "    elif cpu == 'AMD EPYC 2nd Gen':\n",
    "        aws_coefficients.append({\n",
    "            'Architecture': cpu,\n",
    "            'Min Watts': amd_epyc_gen2['Idle watts'],\n",
    "            'Max Watts': amd_epyc_gen2['100% watts'],\n",
    "            'GB/Chip': amd_epyc_gen2['GB/Chip']\n",
    "        })\n",
    "    # We don't know the values for the Graviton chips so\n",
    "    # assume they are the same as AMD EPYC Gen 2\n",
    "    elif cpu == 'AWS Graviton2':\n",
    "        aws_coefficients.append({\n",
    "            'Architecture': cpu,\n",
    "            'Min Watts': amd_epyc_gen2['Idle watts'],\n",
    "            'Max Watts': amd_epyc_gen2['100% watts'],\n",
    "            'GB/Chip': amd_epyc_gen2['GB/Chip']\n",
    "        })\n",
    "    elif cpu == 'Sandy Bridge':\n",
    "        aws_coefficients.append({\n",
    "            'Architecture': cpu,\n",
    "            'Min Watts': intel_sandybridge['Idle watts'],\n",
    "            'Max Watts': intel_sandybridge['100% watts'],\n",
    "            'GB/Chip': intel_sandybridge['GB/Chip']\n",
    "        })\n",
    "    elif cpu == 'Ivy Bridge':\n",
    "        aws_coefficients.append({\n",
    "            'Architecture': cpu,\n",
    "            'Min Watts': intel_ivybridge['Idle watts'],\n",
    "            'Max Watts': intel_ivybridge['100% watts'],\n",
    "            'GB/Chip': intel_ivybridge['GB/Chip']\n",
    "        })\n",
    "    elif cpu == 'Haswell':\n",
    "        aws_coefficients.append({\n",
    "            'Architecture': cpu,\n",
    "            'Min Watts': intel_haswell['Idle watts'],\n",
    "            'Max Watts': intel_haswell['100% watts'],\n",
    "            'GB/Chip': intel_haswell['GB/Chip']\n",
    "        })\n",
    "    elif cpu == 'Broadwell':\n",
    "        aws_coefficients.append({\n",
    "            'Architecture': cpu,\n",
    "            'Min Watts': intel_broadwell['Idle watts'],\n",
    "            'Max Watts': intel_broadwell['100% watts'],\n",
    "            'GB/Chip': intel_broadwell['GB/Chip']\n",
    "        })\n",
    "    elif cpu == 'Skylake':\n",
    "        aws_coefficients.append({\n",
    "            'Architecture': cpu,\n",
    "            'Min Watts': intel_skylake['Idle watts'],\n",
    "            'Max Watts': intel_skylake['100% watts'],\n",
    "            'GB/Chip': intel_skylake['GB/Chip']\n",
    "        })\n",
    "    elif cpu == 'Cascade Lake':\n",
    "        aws_coefficients.append({\n",
    "            'Architecture': cpu,\n",
    "            'Min Watts': intel_cascadelake['Idle watts'],\n",
    "            'Max Watts': intel_cascadelake['100% watts'],\n",
    "            'GB/Chip': intel_cascadelake['GB/Chip']\n",
    "        })\n",
    "    elif cpu == 'Coffee Lake':\n",
    "        aws_coefficients.append({\n",
    "            'Architecture': cpu,\n",
    "            'Min Watts': intel_coffeelake['Idle watts'],\n",
    "            'Max Watts': intel_coffeelake['100% watts'],\n",
    "            'GB/Chip': intel_coffeelake['GB/Chip']\n",
    "        })\n",
    "\n",
    "aws_coefficients = pd.DataFrame(aws_coefficients)\n",
    "print(f'Average: Min Watts = {aws_coefficients[\"Min Watts\"].mean():,.2f}')\n",
    "print(f'Average: Max Watts = {aws_coefficients[\"Max Watts\"].mean():,.2f}')\n",
    "print(f'Average: GB/Chip = {aws_coefficients[\"GB/Chip\"].mean():,.2f}')\n",
    "aws_coefficients"
   ]
  },
  {
   "cell_type": "markdown",
   "metadata": {
    "cell_id": "00028-1ddc5c2f-5dcb-4476-a23a-c97b415025dc",
    "deepnote_cell_type": "markdown",
    "tags": []
   },
   "source": [
    "## GCP\n",
    "\n",
    "These values go in [`packages/gcp/src/domain/GcpFootprintEstimationConstants.ts`](https://github.com/cloud-carbon-footprint/cloud-carbon-footprint/blob/trunk/packages/gcp/src/domain/GcpFootprintEstimationConstants.ts)"
   ]
  },
  {
   "cell_type": "code",
   "execution_count": 68,
   "metadata": {
    "cell_id": "00029-c3c3a873-8483-4edc-a85f-848fd94a646e",
    "deepnote_cell_type": "code",
    "deepnote_to_be_reexecuted": false,
    "execution_millis": 38,
    "execution_start": 1628581594617,
    "source_hash": "2d4e4e4f",
    "tags": []
   },
   "outputs": [
    {
     "name": "stdout",
     "output_type": "stream",
     "text": [
      "Median: Min Watts = 0.71\n",
      "Median: Max Watts = 4.26\n"
     ]
    },
    {
     "data": {
      "text/html": [
       "<div>\n",
       "<style scoped>\n",
       "    .dataframe tbody tr th:only-of-type {\n",
       "        vertical-align: middle;\n",
       "    }\n",
       "\n",
       "    .dataframe tbody tr th {\n",
       "        vertical-align: top;\n",
       "    }\n",
       "\n",
       "    .dataframe thead th {\n",
       "        text-align: right;\n",
       "    }\n",
       "</style>\n",
       "<table border=\"1\" class=\"dataframe\">\n",
       "  <thead>\n",
       "    <tr style=\"text-align: right;\">\n",
       "      <th></th>\n",
       "      <th>Architecture</th>\n",
       "      <th>Min Watts</th>\n",
       "      <th>Max Watts</th>\n",
       "      <th>GB/Chip</th>\n",
       "    </tr>\n",
       "  </thead>\n",
       "  <tbody>\n",
       "    <tr>\n",
       "      <th>0</th>\n",
       "      <td>Skylake</td>\n",
       "      <td>0.652273</td>\n",
       "      <td>4.255506</td>\n",
       "      <td>81.324324</td>\n",
       "    </tr>\n",
       "    <tr>\n",
       "      <th>1</th>\n",
       "      <td>Cascade Lake</td>\n",
       "      <td>0.638949</td>\n",
       "      <td>3.967305</td>\n",
       "      <td>98.117647</td>\n",
       "    </tr>\n",
       "    <tr>\n",
       "      <th>2</th>\n",
       "      <td>AMD EPYC 2nd Gen</td>\n",
       "      <td>0.474262</td>\n",
       "      <td>1.692962</td>\n",
       "      <td>129.777778</td>\n",
       "    </tr>\n",
       "    <tr>\n",
       "      <th>3</th>\n",
       "      <td>Broadwell</td>\n",
       "      <td>0.712834</td>\n",
       "      <td>3.685328</td>\n",
       "      <td>69.647059</td>\n",
       "    </tr>\n",
       "    <tr>\n",
       "      <th>4</th>\n",
       "      <td>Haswell</td>\n",
       "      <td>1.000595</td>\n",
       "      <td>4.739716</td>\n",
       "      <td>27.714286</td>\n",
       "    </tr>\n",
       "    <tr>\n",
       "      <th>5</th>\n",
       "      <td>Sandy Bridge</td>\n",
       "      <td>2.169441</td>\n",
       "      <td>8.575358</td>\n",
       "      <td>16.480916</td>\n",
       "    </tr>\n",
       "    <tr>\n",
       "      <th>6</th>\n",
       "      <td>Ivy Bridge</td>\n",
       "      <td>3.036927</td>\n",
       "      <td>8.248611</td>\n",
       "      <td>14.933333</td>\n",
       "    </tr>\n",
       "  </tbody>\n",
       "</table>\n",
       "</div>"
      ],
      "text/plain": [
       "       Architecture  Min Watts  Max Watts     GB/Chip\n",
       "0           Skylake   0.652273   4.255506   81.324324\n",
       "1      Cascade Lake   0.638949   3.967305   98.117647\n",
       "2  AMD EPYC 2nd Gen   0.474262   1.692962  129.777778\n",
       "3         Broadwell   0.712834   3.685328   69.647059\n",
       "4           Haswell   1.000595   4.739716   27.714286\n",
       "5      Sandy Bridge   2.169441   8.575358   16.480916\n",
       "6        Ivy Bridge   3.036927   8.248611   14.933333"
      ]
     },
     "execution_count": 68,
     "metadata": {},
     "output_type": "execute_result"
    }
   ],
   "source": [
    "gcp_instances = pd.read_csv('data/gcp-instances.csv', na_values=['NC'])\n",
    "gcp_architectures = gcp_instances['Microarchitecture'].unique()\n",
    "gcp_coefficients = []\n",
    "\n",
    "for cpu in gcp_architectures:\n",
    "    if cpu == 'AMD EPYC 1st Gen':\n",
    "        gcp_coefficients.append({\n",
    "            'Architecture': cpu,\n",
    "            'Min Watts': amd_epyc_gen1['Idle watts'],\n",
    "            'Max Watts': amd_epyc_gen1['100% watts'],\n",
    "            'GB/Chip': amd_epyc_gen1['GB/Chip']\n",
    "        })\n",
    "    elif cpu == 'AMD EPYC 2nd Gen':\n",
    "        gcp_coefficients.append({\n",
    "            'Architecture': cpu,\n",
    "            'Min Watts': amd_epyc_gen2['Idle watts'],\n",
    "            'Max Watts': amd_epyc_gen2['100% watts'],\n",
    "            'GB/Chip': amd_epyc_gen2['GB/Chip']\n",
    "        })\n",
    "    elif cpu == 'Sandy Bridge':\n",
    "        gcp_coefficients.append({\n",
    "            'Architecture': cpu,\n",
    "            'Min Watts': intel_sandybridge['Idle watts'],\n",
    "            'Max Watts': intel_sandybridge['100% watts'],\n",
    "            'GB/Chip': intel_sandybridge['GB/Chip']\n",
    "        })\n",
    "    elif cpu == 'Ivy Bridge':\n",
    "        gcp_coefficients.append({\n",
    "            'Architecture': cpu,\n",
    "            'Min Watts': intel_ivybridge['Idle watts'],\n",
    "            'Max Watts': intel_ivybridge['100% watts'],\n",
    "            'GB/Chip': intel_ivybridge['GB/Chip']\n",
    "        })\n",
    "    elif cpu == 'Haswell':\n",
    "        gcp_coefficients.append({\n",
    "            'Architecture': cpu,\n",
    "            'Min Watts': intel_haswell['Idle watts'],\n",
    "            'Max Watts': intel_haswell['100% watts'],\n",
    "            'GB/Chip': intel_haswell['GB/Chip']\n",
    "        })\n",
    "    elif cpu == 'Broadwell':\n",
    "        gcp_coefficients.append({\n",
    "            'Architecture': cpu,\n",
    "            'Min Watts': intel_broadwell['Idle watts'],\n",
    "            'Max Watts': intel_broadwell['100% watts'],\n",
    "            'GB/Chip': intel_broadwell['GB/Chip']\n",
    "        })\n",
    "    elif cpu == 'Skylake':\n",
    "        gcp_coefficients.append({\n",
    "            'Architecture': cpu,\n",
    "            'Min Watts': intel_skylake['Idle watts'],\n",
    "            'Max Watts': intel_skylake['100% watts'],\n",
    "            'GB/Chip': intel_skylake['GB/Chip']\n",
    "        })\n",
    "    elif cpu == 'Cascade Lake':\n",
    "        gcp_coefficients.append({\n",
    "            'Architecture': cpu,\n",
    "            'Min Watts': intel_cascadelake['Idle watts'],\n",
    "            'Max Watts': intel_cascadelake['100% watts'],\n",
    "            'GB/Chip': intel_cascadelake['GB/Chip']\n",
    "        })\n",
    "    elif cpu == 'Coffee Lake':\n",
    "        gcp_coefficients.append({\n",
    "            'Architecture': cpu,\n",
    "            'Min Watts': intel_coffeelake['Idle watts'],\n",
    "            'Max Watts': intel_coffeelake['100% watts'],\n",
    "            'GB/Chip': intel_coffeelake['GB/Chip']\n",
    "        })\n",
    "\n",
    "gcp_coefficients = pd.DataFrame(gcp_coefficients)\n",
    "print(f'Median: Min Watts = {gcp_coefficients[\"Min Watts\"].median():,.2f}')\n",
    "print(f'Median: Max Watts = {gcp_coefficients[\"Max Watts\"].median():,.2f}')\n",
    "gcp_coefficients"
   ]
  },
  {
   "cell_type": "markdown",
   "metadata": {
    "created_in_deepnote_cell": true,
    "deepnote_cell_type": "markdown",
    "tags": []
   },
   "source": [
    "<a style='text-decoration:none;line-height:16px;display:flex;color:#5B5B62;padding:10px;justify-content:end;' href='https://deepnote.com?utm_source=created-in-deepnote-cell&projectId=7cd17f51-c9cb-4f0a-9bfd-3ed64dbc12cd' target=\"_blank\">\n",
    "<img alt='Created in deepnote.com' style='display:inline;max-height:16px;margin:0px;margin-right:7.5px;' src='data:image/svg+xml;base64,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' > </img>\n",
    "Created in <span style='font-weight:600;margin-left:4px;'>Deepnote</span></a>"
   ]
  }
 ],
 "metadata": {
  "deepnote": {
   "is_reactive": false
  },
  "deepnote_execution_queue": [],
  "deepnote_notebook_id": "12ca549f-374b-4ae3-a3fd-1c755a20e197",
  "language_info": {
   "name": "python"
  },
  "orig_nbformat": 2
 },
 "nbformat": 4,
 "nbformat_minor": 2
}
